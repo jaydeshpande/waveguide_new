{
 "cells": [
  {
   "cell_type": "code",
   "execution_count": 1,
   "metadata": {},
   "outputs": [],
   "source": [
    "import matplotlib.pyplot as plt \n",
    "import numpy as np\n",
    "import pandas as pd"
   ]
  },
  {
   "cell_type": "markdown",
   "metadata": {},
   "source": [
    "Assuming incident energy envelope on the lenslet ranging from -90 to +90 degree with:\n",
    "1. mean of 0 (vertical incidence)\n",
    "2. std dev (3sigma = 90 degree) = 30 degree"
   ]
  },
  {
   "cell_type": "code",
   "execution_count": 2,
   "metadata": {},
   "outputs": [],
   "source": [
    "mu = 0 \n",
    "sigma = 30\n",
    "s = np.random.normal(mu, sigma, 100000)"
   ]
  },
  {
   "cell_type": "code",
   "execution_count": 3,
   "metadata": {},
   "outputs": [
    {
     "data": {
      "image/png": "[encoded data removed]",
      "text/plain": [
       "<Figure size 432x288 with 1 Axes>"
      ]
     },
     "metadata": {
      "needs_background": "light"
     },
     "output_type": "display_data"
    }
   ],
   "source": [
    "import matplotlib.pyplot as plt\n",
    "count, bins, ignored = plt.hist(s, 30, density=False)\n",
    "plt.plot(bins, 1/(sigma * np.sqrt(2 * np.pi)) * np.exp( - (bins - mu)**2 / (2 * sigma**2) ), linewidth=2, color='r')\n",
    "plt.title('Distribution on incidence angles')\n",
    "plt.xlabel('Angle in degrees')\n",
    "plt.ylabel('Samples')\n",
    "plt.show()"
   ]
  },
  {
   "cell_type": "markdown",
   "metadata": {},
   "source": [
    "For TIR - reflected ray hits the internal surface at angle incident angle + 2*(wedge angle)"
   ]
  },
  {
   "cell_type": "markdown",
   "metadata": {},
   "source": [
    "<img src=\"fig.PNG\" width=\"800\" />\n",
    "<!-- ![](fig.PNG) -->"
   ]
  },
  {
   "cell_type": "code",
   "execution_count": 4,
   "metadata": {},
   "outputs": [],
   "source": [
    "def calculate_reflection(incident_angle, wedge_angle):\n",
    "    ### Assuming perfect mirror, spectral independence, and specular reflection\n",
    "    ### absoprtion == 0\n",
    "    ### incident_angle measured w.r.t verticle \n",
    "    if incident_angle <0:\n",
    "        return -incident_angle + 2 * wedge_angle\n",
    "    else:\n",
    "        return incident_angle + 2 * wedge_angle"
   ]
  },
  {
   "cell_type": "markdown",
   "metadata": {},
   "source": [
    "Run basic Monte Carlo:\n",
    "1. Iterate of wedge angles going from 0 to 45 degrees \n",
    "2. Sample incident angles from the distribution \"S\" defined above\n",
    "3. Calculate fraction of energy trapped for each wedge angle"
   ]
  },
  {
   "cell_type": "code",
   "execution_count": 5,
   "metadata": {},
   "outputs": [],
   "source": [
    "response = {}\n",
    "for wedge_angle in range(0, 50, 5):\n",
    "    incident_angle = np.random.choice(s, 5000)\n",
    "    response[wedge_angle] = np.fromiter((calculate_reflection(xi, 5) for xi in incident_angle), \n",
    "                                         incident_angle.dtype)"
   ]
  },
  {
   "cell_type": "markdown",
   "metadata": {},
   "source": [
    "Aggregate the rays over 5 degree intervals "
   ]
  },
  {
   "cell_type": "code",
   "execution_count": 6,
   "metadata": {},
   "outputs": [],
   "source": [
    "bins = list(range(0, 95, 5))\n",
    "responsedf = pd.DataFrame(response)"
   ]
  },
  {
   "cell_type": "code",
   "execution_count": 7,
   "metadata": {},
   "outputs": [],
   "source": [
    "CRIT_ANG = 50 #critical angle in degrees for the medium "
   ]
  },
  {
   "cell_type": "code",
   "execution_count": 8,
   "metadata": {},
   "outputs": [],
   "source": [
    "PCT_POW = {}\n",
    "for i in responsedf.columns.values:\n",
    "    uplim = [x.right for x in pd.cut(responsedf[i], bins).value_counts().index.values]\n",
    "    vals = list(pd.cut(responsedf[5], bins).value_counts().values)\n",
    "    oplst = np.asarray(list(zip(uplim, vals)))\n",
    "    PCT_POW[i] = 100* (oplst[oplst[:,0] > CRIT_ANG, 1].sum() / oplst[:, 1].sum())"
   ]
  },
  {
   "cell_type": "code",
   "execution_count": 9,
   "metadata": {},
   "outputs": [
    {
     "name": "stdout",
     "output_type": "stream",
     "text": [
      "average power: 18.32997987927565\n"
     ]
    }
   ],
   "source": [
    "print (\"average power: {}\".format(np.array(list(PCT_POW.values())).mean()))"
   ]
  },
  {
   "cell_type": "code",
   "execution_count": null,
   "metadata": {},
   "outputs": [],
   "source": []
  }
 ],
 "metadata": {
  "kernelspec": {
   "display_name": "Python 3",
   "language": "python",
   "name": "python3"
  },
  "language_info": {
   "codemirror_mode": {
    "name": "ipython",
    "version": 3
   },
   "file_extension": ".py",
   "mimetype": "text/x-python",
   "name": "python",
   "nbconvert_exporter": "python",
   "pygments_lexer": "ipython3",
   "version": "3.7.7"
  }
 },
 "nbformat": 4,
 "nbformat_minor": 4
}
